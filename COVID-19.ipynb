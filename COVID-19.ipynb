{
 "cells": [
  {
   "cell_type": "code",
   "execution_count": null,
   "metadata": {},
   "outputs": [],
   "source": [
    "Install-Module pskit -force"
   ]
  },
  {
   "cell_type": "code",
   "execution_count": null,
   "metadata": {},
   "outputs": [],
   "source": [
    "function ConvertTo-MarkdownTable {\n",
    "    param($targetData)\n",
    "\n",
    "    $names = $targetData[0].psobject.Properties.name     \n",
    "\n",
    "    $all = @()\n",
    "    1..$names.count | foreach {\n",
    "        if($_ -eq $names.count) {\n",
    "            $all += '|'\n",
    "        } else {\n",
    "            $all += '|---'\n",
    "        }\n",
    "    }\n",
    "\n",
    "    $result = foreach($record in $targetData) {\n",
    "        $inner=@()\n",
    "        foreach($name in $names) {        \n",
    "            $inner+=$record.$name\n",
    "        }        \n",
    "        '|' + ($inner -join '|') + '|' + \"`n\"\n",
    "    }\n",
    "    \n",
    "@\"\n",
    "$('|' + ($names -join '|') + '|')\n",
    "$($all)\n",
    "$($result)\n",
    "\"@ | ConvertFrom-Markdown | % html | Get-HtmlContent | Out-Display\n",
    "}"
   ]
  },
  {
   "cell_type": "code",
   "execution_count": null,
   "metadata": {},
   "outputs": [],
   "source": [
    "$date=(Get-Date).AddDays(-1).ToString('MM-dd-yyyy')\n",
    "$url = 'https://raw.githubusercontent.com/CSSEGISandData/COVID-19/master/csse_covid_19_data/csse_covid_19_daily_reports/{0}.csv' -f $date\n",
    "\n",
    "$data = ConvertFrom-Csv (irm $url)\n",
    "$table = New-LookupTable $data Country/Region\n",
    "\n",
    "$result = foreach ($key in $table.keys) {\n",
    "    [pscustomobject][ordered]@{\n",
    "        Key = $key\n",
    "        TotalConfirmed=($table.$key| measure confirmed -Sum).Sum\n",
    "    }\n",
    "}\n"
   ]
  },
  {
   "cell_type": "code",
   "execution_count": 28,
   "metadata": {},
   "outputs": [
    {
     "data": {
      "text/html": [
       "<table>\n",
       "<thead>\n",
       "<tr>\n",
       "<th>Key</th>\n",
       "<th>TotalConfirmed</th>\n",
       "</tr>\n",
       "</thead>\n",
       "<tbody>\n",
       "<tr>\n",
       "<td>Others</td>\n",
       "<td>705</td>\n",
       "</tr>\n",
       "<tr>\n",
       "<td>Iran</td>\n",
       "<td>593</td>\n",
       "</tr>\n",
       "<tr>\n",
       "<td>Japan</td>\n",
       "<td>241</td>\n",
       "</tr>\n",
       "<tr>\n",
       "<td>Singapore</td>\n",
       "<td>102</td>\n",
       "</tr>\n",
       "<tr>\n",
       "<td>France</td>\n",
       "<td>100</td>\n",
       "</tr>\n",
       "<tr>\n",
       "<td>Hong Kong</td>\n",
       "<td>95</td>\n",
       "</tr>\n",
       "<tr>\n",
       "<td>Germany</td>\n",
       "<td>79</td>\n",
       "</tr>\n",
       "<tr>\n",
       "<td>Kuwait</td>\n",
       "<td>45</td>\n",
       "</tr>\n",
       "<tr>\n",
       "<td>Spain</td>\n",
       "<td>45</td>\n",
       "</tr>\n",
       "<tr>\n",
       "<td>US</td>\n",
       "<td>70</td>\n",
       "</tr>\n",
       "</tbody>\n",
       "</table>\n"
      ]
     },
     "metadata": {},
     "output_type": "display_data"
    },
    {
     "data": {
      "text/html": [
       "<div id=\"859fbbd1-c6c8-47db-a02e-14c1b6648984\" style=\"width: 900px; height: 500px;\"></div>\r\n",
       "<script type=\"text/javascript\">\n",
       "\r\n",
       "var renderPlotly = function() {\r\n",
       "    var xplotRequire = requirejs.config({context:'xplot-3.0.1',paths:{plotly:'https://cdn.plot.ly/plotly-1.49.2.min'}});\r\n",
       "    xplotRequire(['plotly'], function(Plotly) {\n",
       "\n",
       "            var data = [{\"type\":\"bar\",\"x\":[\"Others\",\"Iran\",\"Japan\",\"Singapore\",\"France\",\"Hong Kong\",\"Germany\",\"Kuwait\",\"Spain\",\"US\"],\"y\":[705.0,593.0,241.0,102.0,100.0,95.0,79.0,45.0,45.0,70.0],\"name\":\"TotalConfirmed\"}];\n",
       "            var layout = {\"title\":\"Total Confirmed - COVID-19\"};\n",
       "            Plotly.newPlot('859fbbd1-c6c8-47db-a02e-14c1b6648984', data, layout);\n",
       "        \n",
       "});\r\n",
       "};\r\n",
       "if ((typeof(requirejs) !==  typeof(Function)) || (typeof(requirejs.config) !== typeof(Function))) { \r\n",
       "    var script = document.createElement(\"script\"); \r\n",
       "    script.setAttribute(\"src\", \"https://cdnjs.cloudflare.com/ajax/libs/require.js/2.3.6/require.min.js\"); \r\n",
       "    script.onload = function(){\r\n",
       "        renderPlotly();\r\n",
       "    };\r\n",
       "    document.getElementsByTagName(\"head\")[0].appendChild(script); \r\n",
       "}\r\n",
       "else {\r\n",
       "    renderPlotly();\r\n",
       "}\n",
       "</script>\n"
      ]
     },
     "metadata": {},
     "output_type": "display_data"
    }
   ],
   "source": [
    "$data = ($result | select -First 10 -skip 3)\n",
    "\n",
    "ConvertTo-MarkdownTable $data\n",
    "\n",
    "$ConfirmedSeries = [Graph.Bar]@{\n",
    "    name = \"TotalConfirmed\"\n",
    "    x = $data.Key\n",
    "    y = $data.TotalConfirmed\n",
    "}\n",
    "\n",
    "$chart = $ConfirmedSeries | New-PlotlyChart -Title \"Total Confirmed - COVID-19\"\n",
    "Out-Display $chart"
   ]
  }
 ],
 "metadata": {
  "kernelspec": {
   "display_name": ".NET (PowerShell)",
   "language": "PowerShell",
   "name": ".net-powershell"
  },
  "language_info": {
   "file_extension": ".ps1",
   "mimetype": "text/x-powershell",
   "name": "PowerShell",
   "pygments_lexer": "powershell",
   "version": "7.0"
  }
 },
 "nbformat": 4,
 "nbformat_minor": 4
}
