{
 "cells": [
  {
   "cell_type": "code",
   "execution_count": null,
   "metadata": {},
   "outputs": [],
   "source": [
    "Install-Module pskit -force"
   ]
  },
  {
   "cell_type": "code",
   "execution_count": null,
   "metadata": {},
   "outputs": [],
   "source": [
    "function ConvertTo-MarkdownTable {\n",
    "    param($targetData)\n",
    "\n",
    "    $names = $targetData[0].psobject.Properties.name     \n",
    "\n",
    "    $all = @()\n",
    "    1..$names.count | foreach {\n",
    "        if($_ -eq $names.count) {\n",
    "            $all += '|'\n",
    "        } else {\n",
    "            $all += '|---'\n",
    "        }\n",
    "    }\n",
    "\n",
    "    $result = foreach($record in $targetData) {\n",
    "        $inner=@()\n",
    "        foreach($name in $names) {        \n",
    "            $inner+=$record.$name\n",
    "        }        \n",
    "        '|' + ($inner -join '|') + '|' + \"`n\"\n",
    "    }\n",
    "    \n",
    "@\"\n",
    "$('|' + ($names -join '|') + '|')\n",
    "$($all)\n",
    "$($result)\n",
    "\"@ | ConvertFrom-Markdown | % html | Get-HtmlContent | Out-Display\n",
    "}"
   ]
  },
  {
   "cell_type": "code",
   "execution_count": null,
   "metadata": {},
   "outputs": [],
   "source": [
    "$date=(Get-Date).AddDays(-1).ToString('MM-dd-yyyy')\n",
    "$url = 'https://raw.githubusercontent.com/CSSEGISandData/COVID-19/master/csse_covid_19_data/csse_covid_19_daily_reports/{0}.csv' -f $date\n",
    "\n",
    "$data = ConvertFrom-Csv (irm $url)\n",
    "$table = New-LookupTable $data Country/Region\n",
    "\n",
    "$result = foreach ($key in $table.keys) {\n",
    "    [pscustomobject][ordered]@{\n",
    "        Key = $key\n",
    "        TotalConfirmed=($table.$key| measure confirmed -Sum).Sum\n",
    "    }\n",
    "}\n"
   ]
  },
  {
   "cell_type": "code",
   "execution_count": null,
   "metadata": {},
   "outputs": [],
   "source": [
    "$data = ($result | sort-object TotalConfirmed -Descending | select -First 10 -skip 3)\n",
    "\n",
    "ConvertTo-MarkdownTable $data\n",
    "\n",
    "$ConfirmedSeries = [Graph.Bar]@{\n",
    "    name = \"TotalConfirmed\"\n",
    "    x = $data.Key\n",
    "    y = $data.TotalConfirmed\n",
    "}\n",
    "\n",
    "$chart = $ConfirmedSeries | New-PlotlyChart -Title \"Total Confirmed - COVID-19\"\n",
    "Out-Display $chart"
   ]
  }
 ],
 "metadata": {
  "kernelspec": {
   "display_name": ".NET (PowerShell)",
   "language": "PowerShell",
   "name": ".net-powershell"
  },
  "language_info": {
   "file_extension": ".ps1",
   "mimetype": "text/x-powershell",
   "name": "PowerShell",
   "pygments_lexer": "powershell",
   "version": "7.0"
  }
 },
 "nbformat": 4,
 "nbformat_minor": 4
}
