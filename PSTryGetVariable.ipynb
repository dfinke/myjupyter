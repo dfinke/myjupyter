{
 "cells": [
  {
   "cell_type": "markdown",
   "metadata": {},
   "source": [
    "## Only works running locally\n",
    "\n",
    "It doesn't work yet in Binder because it relies on HTTP communication between the kernel and the Jupyter frontend.\n",
    "\n",
    "Using `interactive.powershell.getVariable` we fetch the variable a value.\n",
    "\n",
    "## Multi-language\n",
    "\n",
    "Run PowerShell and HTML together, and pull data from the PowerShell runspace."
   ]
  },
  {
   "cell_type": "code",
   "execution_count": 1,
   "metadata": {},
   "outputs": [
    {
     "data": {
      "text/html": [
       "<script type=\"text/javascript\">#!javascript\r\n",
       "if ((typeof(requirejs) !==  typeof(Function)) || (typeof(requirejs.config) !== typeof(Function))) { \r\n",
       "    let script = document.createElement(\"script\"); \r\n",
       "    script.setAttribute(\"src\", \"https://cdnjs.cloudflare.com/ajax/libs/require.js/2.3.6/require.min.js\"); \r\n",
       "    script.onload = function(){\r\n",
       "        loadDotnetInteractiveApi();\r\n",
       "    };\r\n",
       "    document.getElementsByTagName(\"head\")[0].appendChild(script); \r\n",
       "}\r\n",
       "else {\r\n",
       "    loadDotnetInteractiveApi();\r\n",
       "}\r\n",
       "\r\n",
       "function loadDotnetInteractiveApi(){\r\n",
       "    let apiRequire = requirejs.config({context:\"dotnet-interactive.13388.53007\",paths:{dotnetInteractive:\"http://localhost:53007/resources/dotnet-interactive\"}});\r\n",
       "    apiRequire(['dotnetInteractive'], \r\n",
       "    function(api) {       \r\n",
       "        api.createDotnetInteractiveClient(\"http://localhost:53007/\", window);\r\n",
       "    },\r\n",
       "    function(error){\r\n",
       "        console.log(error);\r\n",
       "    });\r\n",
       "}</script>"
      ]
     },
     "metadata": {},
     "output_type": "display_data"
    },
    {
     "data": {
      "text/html": [
       "\r\n",
       "<p id=\"p1\">Hello World!</p>\r\n",
       "\r\n",
       "<script>\r\n",
       "    interactive.powershell.getVariable(\"a\")\r\n",
       "        .then(data => {\r\n",
       "            document.getElementById(\"p1\").innerHTML = data\r\n",
       "        });\r\n",
       "</script>"
      ]
     },
     "metadata": {},
     "output_type": "display_data"
    }
   ],
   "source": [
    "$a = get-process | select -first 5 company, name, handle*,vm, pm | ConvertTo-Html | out-string\n",
    "\n",
    "#!html\n",
    "\n",
    "<p id=\"p1\">Hello World!</p>\n",
    "\n",
    "<script>\n",
    "    interactive.powershell.getVariable(\"a\")\n",
    "        .then(data => {\n",
    "            document.getElementById(\"p1\").innerHTML = data\n",
    "        });\n",
    "</script>"
   ]
  }
 ],
 "metadata": {
  "kernelspec": {
   "display_name": ".NET (PowerShell)",
   "language": "PowerShell",
   "name": ".net-powershell"
  },
  "language_info": {
   "file_extension": ".ps1",
   "mimetype": "text/x-powershell",
   "name": "PowerShell",
   "pygments_lexer": "powershell",
   "version": "7.0"
  }
 },
 "nbformat": 4,
 "nbformat_minor": 2
}
