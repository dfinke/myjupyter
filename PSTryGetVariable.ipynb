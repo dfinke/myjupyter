{
 "cells": [
  {
   "cell_type": "code",
   "execution_count": 4,
   "metadata": {},
   "outputs": [
    {
     "data": {
      "text/html": [
       "\r\n",
       "<p id=\"p1\">Hello World!</p>\r\n",
       "\r\n",
       "<script>\r\n",
       "    interactive.powershell.getVariable(\"a\")\r\n",
       "        .then(data => {\r\n",
       "            document.getElementById(\"p1\").innerHTML = data\r\n",
       "        });\r\n",
       "</script>"
      ]
     },
     "metadata": {},
     "output_type": "display_data"
    }
   ],
   "source": [
    "# $a = get-process | select -first 3 company, name, handles | ConvertTo-Html | out-string\n",
    "$a = get-service | select -first 3 | ConvertTo-Html | out-string\n",
    "\n",
    "\n",
    "#!html\n",
    "\n",
    "<p id=\"p1\">Hello World!</p>\n",
    "\n",
    "<script>\n",
    "    interactive.powershell.getVariable(\"a\")\n",
    "        .then(data => {\n",
    "            document.getElementById(\"p1\").innerHTML = data\n",
    "        });\n",
    "</script>"
   ]
  }
 ],
 "metadata": {
  "kernelspec": {
   "display_name": ".NET (PowerShell)",
   "language": "PowerShell",
   "name": ".net-powershell"
  },
  "language_info": {
   "file_extension": ".ps1",
   "mimetype": "text/x-powershell",
   "name": "PowerShell",
   "pygments_lexer": "powershell",
   "version": "7.0"
  }
 },
 "nbformat": 4,
 "nbformat_minor": 2
}
